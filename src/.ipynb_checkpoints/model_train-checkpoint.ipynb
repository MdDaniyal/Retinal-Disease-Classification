{
 "cells": [
  {
   "cell_type": "code",
   "execution_count": null,
   "metadata": {},
   "outputs": [],
   "source": [
    "import torch\n",
    "import torch.nn as nn\n",
    "import torchvision.transforms as transforms\n",
    "import torch.nn.functional as F\n",
    "import sklearn\n",
    "import torchvision\n",
    "from sklearn.model_selection import train_test_split\n",
    "from sklearn.preprocessing import LabelEncoder\n",
    "import numpy as np\n",
    "import pandas as pd\n",
    "import os\n",
    "import matplotlib.pyplot as plt\n",
    "import PIL\n",
    "from PIL import Image\n",
    "import albumentations as A\n",
    "from albumentations.pytorch import ToTensorV2\n",
    "import seaborn as sns\n",
    "import glob\n",
    "from pathlib import Path\n",
    "torch.manual_seed(1)\n",
    "np.random.seed(1)"
   ]
  },
  {
   "cell_type": "code",
   "execution_count": null,
   "metadata": {},
   "outputs": [],
   "source": [
    "train_labels = pd.read_csv('../input/retinal-disease-classification/Training_Set/Training_Set/RFMiD_Training_Labels.csv')\n",
    "\n",
    "valid_labels = pd.read_csv('../input/retinal-disease-classification/Evaluation_Set/Evaluation_Set/RFMiD_Validation_Labels.csv') \n",
    "\n",
    "test_labels = pd.read_csv('../input/retinal-disease-classification/Test_Set/Test_Set/RFMiD_Testing_Labels.csv')"
   ]
  },
  {
   "cell_type": "code",
   "execution_count": null,
   "metadata": {},
   "outputs": [],
   "source": [
    "train_files = []\n",
    "valid_files = []\n",
    "test_files = []\n",
    "for file in os.listdir('../input/retinal-disease-classification/Training_Set/Training_Set/Training'):\n",
    "    train_files.append(file)\n",
    "    \n",
    "for file in os.listdir('../input/retinal-disease-classification/Evaluation_Set/Evaluation_Set/Validation'):\n",
    "    valid_files.append(file)\n",
    "    \n",
    "for file in os.listdir('../input/retinal-disease-classification/Test_Set/Test_Set/Test'):\n",
    "    test_files.append(file)"
   ]
  },
  {
   "cell_type": "code",
   "execution_count": null,
   "metadata": {},
   "outputs": [],
   "source": [
    "train_ids = []\n",
    "for element in train_files:\n",
    "    train_ids.append(element.split('.')[0])\n",
    "    \n",
    "valid_ids = []\n",
    "for element in valid_files:\n",
    "    valid_ids.append(element.split('.')[0])\n",
    "\n",
    "test_ids = []\n",
    "for element in test_files:\n",
    "    test_ids.append(element.split('.')[0]) "
   ]
  },
  {
   "cell_type": "code",
   "execution_count": null,
   "metadata": {},
   "outputs": [],
   "source": [
    "train_ids = pd.Series(train_ids, name='ids')\n",
    "train_files = pd.Series(train_files, name='filenames')\n",
    "train_files = pd.concat([train_ids, train_files], axis=1)\n",
    "\n",
    "valid_ids = pd.Series(valid_ids, name='ids')\n",
    "valid_files = pd.Series(valid_files, name='filenames')\n",
    "valid_files = pd.concat([valid_ids, valid_files], axis=1)\n",
    "\n",
    "test_ids = pd.Series(test_ids, name='ids')\n",
    "test_files = pd.Series(test_files, name='filenames')\n",
    "test_files = pd.concat([test_ids, test_files], axis=1)"
   ]
  },
  {
   "cell_type": "code",
   "execution_count": null,
   "metadata": {},
   "outputs": [],
   "source": [
    "train_files['ids'] = train_files['ids'].astype('int64')\n",
    "valid_files['ids'] = valid_files['ids'].astype('int64')\n",
    "test_files['ids'] = test_files['ids'].astype('int64')"
   ]
  },
  {
   "cell_type": "code",
   "execution_count": null,
   "metadata": {},
   "outputs": [],
   "source": [
    "train_df = pd.merge(train_labels, train_files, left_on='ID', right_on='ids')\n",
    "valid_df = pd.merge(valid_labels, valid_files, left_on='ID', right_on='ids')\n",
    "test_df = pd.merge(test_labels, test_files, left_on='ID', right_on='ids')\n",
    "train_df"
   ]
  },
  {
   "cell_type": "code",
   "execution_count": null,
   "metadata": {},
   "outputs": [],
   "source": [
    "train_df.drop(columns='ids')\n",
    "valid_df.drop(columns='ids')\n",
    "test_df.drop(columns='ids')"
   ]
  },
  {
   "cell_type": "code",
   "execution_count": null,
   "metadata": {},
   "outputs": [],
   "source": [
    "train_df['full_file_paths'] = '../input/retinal-disease-classification/Training_Set/Training_Set/Training/' + train_df['filenames']\n",
    "valid_df['full_file_paths'] = '../input/retinal-disease-classification/Evaluation_Set/Evaluation_Set/Validation/' + valid_df['filenames']\n",
    "test_df['full_file_paths'] = '../input/retinal-disease-classification/Test_Set/Test_Set/Test/' + test_df['filenames']"
   ]
  },
  {
   "cell_type": "code",
   "execution_count": null,
   "metadata": {},
   "outputs": [],
   "source": [
    "class RetinalDisease(torch.utils.data.Dataset):\n",
    "    def __init__(self, df=train_df, transform=transforms.Compose([transforms.ToTensor()])):\n",
    "        self.df = df\n",
    "        self.transform = transform\n",
    "        \n",
    "    def __len__(self):\n",
    "        length = len(self.df)\n",
    "        return length\n",
    "        \n",
    "    def __getitem__(self, idx):\n",
    "        img_path = self.df.iloc[idx, -1]\n",
    "        label = torch.tensor(train_df.iloc[idx, 1:-3])\n",
    "        image = Image.open(img_path).convert('RGB')\n",
    "        img = np.array(image)\n",
    "        image = self.transform(image=img)[\"image\"]\n",
    "        return image, label"
   ]
  },
  {
   "cell_type": "code",
   "execution_count": null,
   "metadata": {},
   "outputs": [],
   "source": [
    "train_transforms = A.Compose([\n",
    "    A.Resize(1424, 2144),\n",
    "    A.HorizontalFlip(),\n",
    "    A.Normalize(mean=(0.485, 0.456, 0.406), std=(0.229, 0.224, 0.225)),\n",
    "    ToTensorV2()\n",
    "])\n",
    "\n",
    "test_transforms = A.Compose([\n",
    "    A.Resize(1424, 2144),\n",
    "    A.Normalize(mean=(0.485, 0.456, 0.406), std=(0.229, 0.224, 0.225)),\n",
    "    ToTensorV2()\n",
    "])"
   ]
  },
  {
   "cell_type": "code",
   "execution_count": null,
   "metadata": {},
   "outputs": [],
   "source": [
    "train_dataset = RetinalDisease(transform=train_transforms)\n",
    "valid_dataset = RetinalDisease(df=valid_df, transform=test_transforms)\n",
    "test_dataset = RetinalDisease(df=test_df, transform=test_transforms)"
   ]
  },
  {
   "cell_type": "code",
   "execution_count": null,
   "metadata": {},
   "outputs": [],
   "source": [
    "batch_size = 2\n",
    "train_loader = torch.utils.data.DataLoader(train_dataset, batch_size=batch_size)\n",
    "valid_loader = torch.utils.data.DataLoader(valid_dataset, batch_size=batch_size)\n",
    "test_loader = torch.utils.data.DataLoader(test_dataset, batch_size=10)"
   ]
  },
  {
   "cell_type": "code",
   "execution_count": null,
   "metadata": {},
   "outputs": [],
   "source": [
    "len(train_loader)"
   ]
  },
  {
   "cell_type": "code",
   "execution_count": null,
   "metadata": {},
   "outputs": [],
   "source": [
    "device = torch.device(\"cuda:0\" if torch.cuda.is_available() else \"cpu\")\n",
    "device      "
   ]
  },
  {
   "cell_type": "code",
   "execution_count": null,
   "metadata": {},
   "outputs": [],
   "source": [
    "model = torchvision.models.resnet50(pretrained=True)\n",
    "model.fc = nn.Sequential(\n",
    "               nn.Linear(2048, 46))"
   ]
  },
  {
   "cell_type": "code",
   "execution_count": null,
   "metadata": {},
   "outputs": [],
   "source": [
    "optimizer = torch.optim.SGD(model.parameters(), momentum=0.9, weight_decay=0.0005, lr=0.0001)\n",
    "\n",
    "criterion = nn.BCEWithLogitsLoss(reduction='sum')\n",
    "\n",
    "lr_scheduler = torch.optim.lr_scheduler.ReduceLROnPlateau(optimizer, factor=0.1, patience=8, cooldown=10, verbose=True)\n",
    "\n",
    "model = model.to(device)\n",
    "criterion = criterion.to(device)"
   ]
  },
  {
   "cell_type": "code",
   "execution_count": null,
   "metadata": {},
   "outputs": [],
   "source": [
    "epochs = 100\n",
    "\n",
    "total_train_loss = []\n",
    "total_valid_loss = []\n",
    "best_valid_loss = np.Inf\n",
    "\n",
    "for epoch in range(epochs): \n",
    "    print('Epoch: ', epoch + 1)\n",
    "    train_loss = []\n",
    "    valid_loss = []\n",
    "    train_correct = 0\n",
    "    train_total = 0\n",
    "    valid_correct = 0\n",
    "    valid_total = 0\n",
    "    for image, target in train_loader:\n",
    "        model.train()\n",
    "        image, target = image.to(device), target.to(device)\n",
    "        output = model(image)\n",
    "        target = target.float()\n",
    "        loss = criterion(output, target)\n",
    "        train_loss.append(loss.item())\n",
    "        loss.backward()\n",
    "        optimizer.step()\n",
    "        \n",
    "    for image, target in valid_loader:\n",
    "        with torch.no_grad():\n",
    "            model.eval()\n",
    "            optimizer.zero_grad()\n",
    "            image, target = image.to(device), target.to(device)\n",
    "            output = model(image)\n",
    "            target = target.float()\n",
    "            loss = criterion(output, target)\n",
    "            valid_loss.append(loss.item())\n",
    "            \n",
    "    epoch_train_loss = np.mean(train_loss)\n",
    "    epoch_valid_loss = np.mean(valid_loss)\n",
    "    print(f'Epoch {epoch + 1}, train loss: {epoch_train_loss:.4f}, valid loss: {epoch_valid_loss:.4f}')\n",
    "    if epoch_valid_loss < best_valid_loss:\n",
    "        torch.save(model.state_dict(), 'retinal_disease.pt')\n",
    "        print('Model improved. Saving model.')\n",
    "        best_valid_loss = epoch_valid_loss\n",
    "        \n",
    "    lr_scheduler.step(epoch_valid_loss)\n",
    "    total_train_loss.append(epoch_train_loss)\n",
    "    total_valid_loss.append(epoch_valid_loss)"
   ]
  },
  {
   "cell_type": "code",
   "execution_count": null,
   "metadata": {},
   "outputs": [],
   "source": []
  },
  {
   "cell_type": "code",
   "execution_count": null,
   "metadata": {},
   "outputs": [],
   "source": []
  },
  {
   "cell_type": "code",
   "execution_count": null,
   "metadata": {},
   "outputs": [],
   "source": []
  },
  {
   "cell_type": "code",
   "execution_count": null,
   "metadata": {},
   "outputs": [],
   "source": []
  },
  {
   "cell_type": "code",
   "execution_count": null,
   "metadata": {},
   "outputs": [],
   "source": []
  },
  {
   "cell_type": "code",
   "execution_count": null,
   "metadata": {},
   "outputs": [],
   "source": []
  },
  {
   "cell_type": "code",
   "execution_count": null,
   "metadata": {},
   "outputs": [],
   "source": []
  },
  {
   "cell_type": "code",
   "execution_count": null,
   "metadata": {},
   "outputs": [],
   "source": []
  },
  {
   "cell_type": "code",
   "execution_count": null,
   "metadata": {},
   "outputs": [],
   "source": []
  },
  {
   "cell_type": "code",
   "execution_count": null,
   "metadata": {},
   "outputs": [],
   "source": []
  },
  {
   "cell_type": "code",
   "execution_count": null,
   "metadata": {},
   "outputs": [],
   "source": []
  },
  {
   "cell_type": "code",
   "execution_count": null,
   "metadata": {},
   "outputs": [],
   "source": []
  },
  {
   "cell_type": "code",
   "execution_count": null,
   "metadata": {},
   "outputs": [],
   "source": []
  },
  {
   "cell_type": "code",
   "execution_count": null,
   "metadata": {},
   "outputs": [],
   "source": []
  },
  {
   "cell_type": "code",
   "execution_count": null,
   "metadata": {},
   "outputs": [],
   "source": []
  },
  {
   "cell_type": "code",
   "execution_count": null,
   "metadata": {},
   "outputs": [],
   "source": []
  },
  {
   "cell_type": "code",
   "execution_count": null,
   "metadata": {},
   "outputs": [],
   "source": []
  },
  {
   "cell_type": "code",
   "execution_count": null,
   "metadata": {},
   "outputs": [],
   "source": []
  },
  {
   "cell_type": "code",
   "execution_count": null,
   "metadata": {},
   "outputs": [],
   "source": []
  }
 ],
 "metadata": {
  "kernelspec": {
   "display_name": "Python 3 (ipykernel)",
   "language": "python",
   "name": "python3"
  },
  "language_info": {
   "codemirror_mode": {
    "name": "ipython",
    "version": 3
   },
   "file_extension": ".py",
   "mimetype": "text/x-python",
   "name": "python",
   "nbconvert_exporter": "python",
   "pygments_lexer": "ipython3",
   "version": "3.7.6"
  }
 },
 "nbformat": 4,
 "nbformat_minor": 4
}
